{
 "cells": [
  {
   "cell_type": "code",
   "execution_count": 6,
   "metadata": {
    "collapsed": true
   },
   "outputs": [],
   "source": [
    "def sent(a,b,c,d,e):\n",
    "    x = (a or b or c or d or e) \n",
    "    x = x and ((not a) or (not b))\n",
    "    x = x and ((not b) or (not c))\n",
    "    x = x and ((not c) or (not d))\n",
    "    x = x and ((not a) or (not c))\n",
    "    x = x and ((not a) or (not d))\n",
    "    x = x and ((not b) or (not d))\n",
    "    x = x and ((not e) or (not a))\n",
    "    x = x and ((not e) or (not b))\n",
    "    x = x and ((not e) or (not c))\n",
    "    x = x and ((not e) or (not d))\n",
    "    return x\n",
    "    \n",
    "    "
   ]
  },
  {
   "cell_type": "code",
   "execution_count": 8,
   "metadata": {},
   "outputs": [
    {
     "name": "stdout",
     "output_type": "stream",
     "text": [
      "1-1-1-1-1  ->  False\n",
      "1-1-1-1-0  ->  False\n",
      "1-1-1-0-1  ->  False\n",
      "1-1-1-0-0  ->  False\n",
      "1-1-0-1-1  ->  False\n",
      "1-1-0-1-0  ->  False\n",
      "1-1-0-0-1  ->  False\n",
      "1-1-0-0-0  ->  False\n",
      "1-0-1-1-1  ->  False\n",
      "1-0-1-1-0  ->  False\n",
      "1-0-1-0-1  ->  False\n",
      "1-0-1-0-0  ->  False\n",
      "1-0-0-1-1  ->  False\n",
      "1-0-0-1-0  ->  False\n",
      "1-0-0-0-1  ->  False\n",
      "1-0-0-0-0  ->  True\n",
      "0-1-1-1-1  ->  False\n",
      "0-1-1-1-0  ->  False\n",
      "0-1-1-0-1  ->  False\n",
      "0-1-1-0-0  ->  False\n",
      "0-1-0-1-1  ->  False\n",
      "0-1-0-1-0  ->  False\n",
      "0-1-0-0-1  ->  False\n",
      "0-1-0-0-0  ->  True\n",
      "0-0-1-1-1  ->  False\n",
      "0-0-1-1-0  ->  False\n",
      "0-0-1-0-1  ->  False\n",
      "0-0-1-0-0  ->  True\n",
      "0-0-0-1-1  ->  False\n",
      "0-0-0-1-0  ->  True\n",
      "0-0-0-0-1  ->  True\n",
      "0-0-0-0-0  ->  False\n"
     ]
    }
   ],
   "source": [
    "l = [True, False]\n",
    "\n",
    "for a in l:\n",
    "    for b in l:\n",
    "        for c in l:\n",
    "            for d in l:\n",
    "                for e in l:\n",
    "                    s = \"-\".join([str(int(i)) for i in [a,b,c,d,e]])\n",
    "                    print(s, \" -> \", sent(a,b,c,d,e))\n",
    "\n",
    "                "
   ]
  },
  {
   "cell_type": "code",
   "execution_count": 206,
   "metadata": {
    "collapsed": true
   },
   "outputs": [],
   "source": [
    "def S11(clauses, inp, P):\n",
    "    R = inp\n",
    "    C = inp\n",
    "    N = inp\n",
    "    new_c = []\n",
    "    for i in R:\n",
    "        for j in C:\n",
    "            new_c.append(\" \".join([str(P[i,j,n]) for n in N]) + \" 0\")\n",
    "    print(\"S11\",len(new_c))\n",
    "    return clauses+new_c\n",
    "\n",
    "def S12(clauses, inp, P):\n",
    "    R = inp\n",
    "    C = inp\n",
    "    N = inp\n",
    "    new_c = []\n",
    "    s = 0\n",
    "    for i in R:\n",
    "        for j in C:\n",
    "            for n in N:\n",
    "                for m in range(n+1,max(inp)+1):\n",
    "                    '''\n",
    "                    if i == 1 and j ==1:\n",
    "                        s += 1\n",
    "                        print(n,m,s)\n",
    "                    '''\n",
    "                    new_c.append(\"-{0} -{1} 0\".format(str(P[i,j,n]),str(P[i,j,m])))\n",
    "                    \n",
    "    print(\"S12\",len(new_c))\n",
    "    return clauses +new_c\n",
    "   \n",
    "def S2(clauses, inp, P):\n",
    "    R = inp\n",
    "    C = inp\n",
    "    N = inp\n",
    "    new_c = []\n",
    "    for i in R:\n",
    "        for n in N:\n",
    "            new_c.append(\" \".join([str(P[i,j,n]) for j in C]) + \" 0\")\n",
    "    print(\"S2\",len(new_c))\n",
    "    return clauses + new_c\n",
    "\n",
    "def S3(clauses, inp, P):\n",
    "    R = inp\n",
    "    C = inp\n",
    "    N = inp\n",
    "    new_c = []\n",
    "    for j in C:\n",
    "        for n in N:\n",
    "            new_c.append(\" \".join([str(P[i,j,n]) for i in R]) + \" 0\")\n",
    "    print(\"S3\",len(new_c))\n",
    "    return clauses+new_c\n",
    "\n",
    "def S4(clauses, inp, P):\n",
    "    R = {1:[1,2,3],2:[4,5,6],3:[7,8,9]}\n",
    "    C = {1:[1,2,3],2:[4,5,6],3:[7,8,9]}\n",
    "    N = inp\n",
    "    new_c = []\n",
    "    for br in range(1,4):\n",
    "        for bc in range(1,4):\n",
    "            for n in N:\n",
    "                new_c.append(\" \".join([str(P[i,j,n]) for i in R[br] for j in C[bc]]) + \" 0\")\n",
    "    print(\"S4\",len(new_c))\n",
    "    return clauses+new_c"
   ]
  },
  {
   "cell_type": "code",
   "execution_count": 253,
   "metadata": {
    "collapsed": true
   },
   "outputs": [],
   "source": [
    "import pandas as pd\n",
    "def clean():\n",
    "    with open(\"out.txt\", \"r\") as f:\n",
    "        out = f.read()\n",
    "    out = out.replace(\"SAT\\n\",'')\n",
    "    out = out.replace(\"\\n\",'')\n",
    "    out = out.split(' ')\n",
    "    return out #[i for i in out if \"0\" not in i]\n",
    "\n",
    "def result(inp, R):\n",
    "    P = []\n",
    "    for p in inp:\n",
    "        s = p.strip()\n",
    "        if \"-\" in s:\n",
    "            pass\n",
    "        else:\n",
    "            if s != \"0\":\n",
    "                P.append(R[int(s)])\n",
    "    return P\n",
    "   \n",
    "def sprint(inp):\n",
    "    L = [[\"0\" for i in range(9)] for j in range(9)]\n",
    "    for p in inp:\n",
    "        L[p[0]-1][p[1]-1]=str(p[2])\n",
    "\n",
    "    for r in L:\n",
    "        s = \"| \" + \" | \".join(r) + \" |\"\n",
    "        print(s)\n",
    "        print(\"-\"*len(s))\n",
    "            \n",
    "    col_sum = [0 for i in range(9)]\n",
    "    row_sum = [0 for i in range(9)]\n",
    "    block_sums = [[0 for i in range(3)] for j in range(3)]\n",
    "    iL = [[int(e) for e in row] for row in L]\n",
    "    for i,r in enumerate(iL):\n",
    "        row_sum[i] = sum(r)\n",
    "        for j,c in enumerate(r):\n",
    "            col_sum[j]+=int(c)\n",
    "    \n",
    "    R = {1:[1,2,3],2:[4,5,6],3:[7,8,9]}\n",
    "    C = {1:[1,2,3],2:[4,5,6],3:[7,8,9]}\n",
    "    for br in range(1,4):\n",
    "        for bc in range(1,4):\n",
    "            for i in R[br]:\n",
    "                for j in C[bc]:\n",
    "                    block_sums[br-1][bc-1]+= iL[i-1][j-1]\n",
    "    print(col_sum)\n",
    "    print(row_sum)\n",
    "    print(block_sums)\n",
    "    \n",
    "    df = pd.DataFrame(iL)\n",
    "    print(df.to_latex())\n",
    "        "
   ]
  },
  {
   "cell_type": "code",
   "execution_count": 254,
   "metadata": {
    "collapsed": true
   },
   "outputs": [],
   "source": [
    "ran = [i+1 for i in range(9)]\n",
    "p = 0\n",
    "map_dic = {}\n",
    "back_dic = {}\n",
    "for n in range(1,10):\n",
    "    for i in range(1,10):\n",
    "        for j in range(1,10):\n",
    "            p+=1\n",
    "            map_dic[(i,j,n)]=p\n",
    "            back_dic[p]=(i,j,n)\n"
   ]
  },
  {
   "cell_type": "code",
   "execution_count": 255,
   "metadata": {},
   "outputs": [
    {
     "data": {
      "text/plain": [
       "['244 0',\n",
       " '570 0',\n",
       " '490 0',\n",
       " '653 0',\n",
       " '660 0',\n",
       " '580 0',\n",
       " '95 0',\n",
       " '340 0',\n",
       " '101 0',\n",
       " '676 0',\n",
       " '111 0',\n",
       " '438 0',\n",
       " '35 0',\n",
       " '522 0',\n",
       " '444 0',\n",
       " '364 0',\n",
       " '608 0',\n",
       " '528 0',\n",
       " '691 0',\n",
       " '532 0',\n",
       " '614 0',\n",
       " '130 0',\n",
       " '295 0',\n",
       " '459 0',\n",
       " '305 0',\n",
       " '390 0',\n",
       " '311 0',\n",
       " '636 0',\n",
       " '151 0',\n",
       " '722 0',\n",
       " '563 0',\n",
       " '159 0',\n",
       " '241 0',\n",
       " '405 0']"
      ]
     },
     "execution_count": 255,
     "metadata": {},
     "output_type": "execute_result"
    }
   ],
   "source": [
    "import re\n",
    "with open(\"untitled.txt\", 'r') as f:\n",
    "    raw = f.read()\n",
    "\n",
    "sudoku = re.findall(r'c_\\{(\\d+)\\}', raw)\n",
    "trans = lambda x: (int(x[0]), int(x[1]), int(x[2]))\n",
    "sudoku_clauses = [str(map_dic[trans(i)]) + \" 0\" for i in sudoku]\n",
    "sudoku_clauses"
   ]
  },
  {
   "cell_type": "code",
   "execution_count": 256,
   "metadata": {},
   "outputs": [
    {
     "name": "stdout",
     "output_type": "stream",
     "text": [
      "S11 81\n",
      "S12 2916\n",
      "S2 81\n",
      "S3 81\n",
      "S4 81\n",
      "3274\n"
     ]
    }
   ],
   "source": [
    "clauses = [\"p cnf 729 9\"]\n",
    "clauses = clauses + sudoku_clauses\n",
    "clauses = S11(clauses,ran,map_dic)\n",
    "clauses = S12(clauses,ran,map_dic)\n",
    "clauses = S2(clauses,ran,map_dic)\n",
    "clauses = S3(clauses,ran,map_dic)\n",
    "clauses = S4(clauses,ran,map_dic)\n",
    "print(len(clauses)-1)\n"
   ]
  },
  {
   "cell_type": "code",
   "execution_count": 257,
   "metadata": {
    "collapsed": true
   },
   "outputs": [],
   "source": [
    "with open(\"inp.txt\", \"w\") as f:\n",
    "    f.write(\" \\n \".join(clauses) + \" \\n\")"
   ]
  },
  {
   "cell_type": "code",
   "execution_count": 258,
   "metadata": {},
   "outputs": [
    {
     "name": "stdout",
     "output_type": "stream",
     "text": [
      "| 4 | 1 | 8 | 7 | 9 | 5 | 6 | 2 | 3 |\n",
      "-------------------------------------\n",
      "| 6 | 3 | 9 | 8 | 2 | 1 | 5 | 7 | 4 |\n",
      "-------------------------------------\n",
      "| 5 | 2 | 7 | 3 | 6 | 4 | 1 | 8 | 9 |\n",
      "-------------------------------------\n",
      "| 9 | 5 | 2 | 4 | 3 | 6 | 8 | 1 | 7 |\n",
      "-------------------------------------\n",
      "| 1 | 4 | 6 | 5 | 8 | 7 | 9 | 3 | 2 |\n",
      "-------------------------------------\n",
      "| 7 | 8 | 3 | 2 | 1 | 9 | 4 | 5 | 6 |\n",
      "-------------------------------------\n",
      "| 2 | 6 | 1 | 9 | 5 | 3 | 7 | 4 | 8 |\n",
      "-------------------------------------\n",
      "| 3 | 7 | 5 | 6 | 4 | 8 | 2 | 9 | 1 |\n",
      "-------------------------------------\n",
      "| 8 | 9 | 4 | 1 | 7 | 2 | 3 | 6 | 5 |\n",
      "-------------------------------------\n",
      "[45, 45, 45, 45, 45, 45, 45, 45, 45]\n",
      "[45, 45, 45, 45, 45, 45, 45, 45, 45]\n",
      "[[45, 45, 45], [45, 45, 45], [45, 45, 45]]\n",
      "\\begin{tabular}{lrrrrrrrrr}\n",
      "\\toprule\n",
      "{} &  0 &  1 &  2 &  3 &  4 &  5 &  6 &  7 &  8 \\\\\n",
      "\\midrule\n",
      "0 &  4 &  1 &  8 &  7 &  9 &  5 &  6 &  2 &  3 \\\\\n",
      "1 &  6 &  3 &  9 &  8 &  2 &  1 &  5 &  7 &  4 \\\\\n",
      "2 &  5 &  2 &  7 &  3 &  6 &  4 &  1 &  8 &  9 \\\\\n",
      "3 &  9 &  5 &  2 &  4 &  3 &  6 &  8 &  1 &  7 \\\\\n",
      "4 &  1 &  4 &  6 &  5 &  8 &  7 &  9 &  3 &  2 \\\\\n",
      "5 &  7 &  8 &  3 &  2 &  1 &  9 &  4 &  5 &  6 \\\\\n",
      "6 &  2 &  6 &  1 &  9 &  5 &  3 &  7 &  4 &  8 \\\\\n",
      "7 &  3 &  7 &  5 &  6 &  4 &  8 &  2 &  9 &  1 \\\\\n",
      "8 &  8 &  9 &  4 &  1 &  7 &  2 &  3 &  6 &  5 \\\\\n",
      "\\bottomrule\n",
      "\\end{tabular}\n",
      "\n"
     ]
    }
   ],
   "source": [
    "sprint(result(clean(),back_dic))\n"
   ]
  },
  {
   "cell_type": "code",
   "execution_count": 261,
   "metadata": {
    "collapsed": true
   },
   "outputs": [],
   "source": [
    "import json\n",
    "save_map = {str(k):v for k,v in map_dic.items()}\n",
    "with open('encoding.json', 'w') as f:\n",
    "    json.dump(save_map,f)"
   ]
  },
  {
   "cell_type": "code",
   "execution_count": null,
   "metadata": {
    "collapsed": true
   },
   "outputs": [],
   "source": []
  },
  {
   "cell_type": "code",
   "execution_count": 264,
   "metadata": {},
   "outputs": [
    {
     "name": "stdout",
     "output_type": "stream",
     "text": [
      "1 2\n",
      "1 3\n",
      "1 4\n",
      "1 5\n",
      "2 3\n",
      "2 4\n",
      "2 5\n",
      "3 4\n",
      "3 5\n",
      "4 5\n",
      "10\n"
     ]
    }
   ],
   "source": [
    "counter = 0\n",
    "m = 5\n",
    "for i in range(1,m+1):\n",
    "    for j in range(i+1,m+1):\n",
    "        counter+=1\n",
    "        print(i,j)\n",
    "print(counter)"
   ]
  },
  {
   "cell_type": "code",
   "execution_count": null,
   "metadata": {
    "collapsed": true
   },
   "outputs": [],
   "source": []
  },
  {
   "cell_type": "code",
   "execution_count": null,
   "metadata": {
    "collapsed": true
   },
   "outputs": [],
   "source": []
  },
  {
   "cell_type": "code",
   "execution_count": null,
   "metadata": {
    "collapsed": true
   },
   "outputs": [],
   "source": []
  },
  {
   "cell_type": "code",
   "execution_count": null,
   "metadata": {
    "collapsed": true
   },
   "outputs": [],
   "source": []
  },
  {
   "cell_type": "code",
   "execution_count": null,
   "metadata": {
    "collapsed": true
   },
   "outputs": [],
   "source": []
  },
  {
   "cell_type": "code",
   "execution_count": null,
   "metadata": {
    "collapsed": true
   },
   "outputs": [],
   "source": []
  },
  {
   "cell_type": "code",
   "execution_count": null,
   "metadata": {
    "collapsed": true
   },
   "outputs": [],
   "source": []
  },
  {
   "cell_type": "code",
   "execution_count": null,
   "metadata": {
    "collapsed": true
   },
   "outputs": [],
   "source": []
  },
  {
   "cell_type": "code",
   "execution_count": null,
   "metadata": {
    "collapsed": true
   },
   "outputs": [],
   "source": []
  },
  {
   "cell_type": "code",
   "execution_count": null,
   "metadata": {
    "collapsed": true
   },
   "outputs": [],
   "source": []
  },
  {
   "cell_type": "code",
   "execution_count": null,
   "metadata": {
    "collapsed": true
   },
   "outputs": [],
   "source": []
  },
  {
   "cell_type": "code",
   "execution_count": null,
   "metadata": {
    "collapsed": true
   },
   "outputs": [],
   "source": []
  }
 ],
 "metadata": {
  "kernelspec": {
   "display_name": "Python 3",
   "language": "python",
   "name": "python3"
  },
  "language_info": {
   "codemirror_mode": {
    "name": "ipython",
    "version": 3
   },
   "file_extension": ".py",
   "mimetype": "text/x-python",
   "name": "python",
   "nbconvert_exporter": "python",
   "pygments_lexer": "ipython3",
   "version": "3.6.1"
  }
 },
 "nbformat": 4,
 "nbformat_minor": 2
}
