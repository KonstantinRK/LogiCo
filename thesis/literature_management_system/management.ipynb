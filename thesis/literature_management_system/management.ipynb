{
 "cells": [
  {
   "cell_type": "code",
   "execution_count": 1,
   "metadata": {},
   "outputs": [],
   "source": [
    "from database_management import DBManager\n",
    "import pyperclip"
   ]
  },
  {
   "cell_type": "code",
   "execution_count": 2,
   "metadata": {},
   "outputs": [],
   "source": [
    "db = DBManager()"
   ]
  },
  {
   "cell_type": "code",
   "execution_count": 3,
   "metadata": {},
   "outputs": [],
   "source": [
    "papers = iter([(i[\"key\"], i[\"name\"]) for i in db.list_papers(tags=\"0\", relevant=True, names=False)])"
   ]
  },
  {
   "cell_type": "code",
   "execution_count": 307,
   "metadata": {},
   "outputs": [
    {
     "data": {
      "text/plain": [
       "'arguing about causes in law: a semi‐formal framework for causal arguments'"
      ]
     },
     "execution_count": 307,
     "metadata": {},
     "output_type": "execute_result"
    }
   ],
   "source": [
    "curren_paper, name = next(papers)\n",
    "name"
   ]
  },
  {
   "cell_type": "code",
   "execution_count": 308,
   "metadata": {},
   "outputs": [],
   "source": [
    "db.get_paper_pdf(curren_paper)"
   ]
  },
  {
   "cell_type": "code",
   "execution_count": null,
   "metadata": {},
   "outputs": [],
   "source": []
  },
  {
   "cell_type": "code",
   "execution_count": null,
   "metadata": {},
   "outputs": [],
   "source": []
  },
  {
   "cell_type": "code",
   "execution_count": 411,
   "metadata": {},
   "outputs": [
    {
     "data": {
      "text/plain": [
       "'The NESS account of natural causation: a response to criticisms.'"
      ]
     },
     "execution_count": 411,
     "metadata": {},
     "output_type": "execute_result"
    }
   ],
   "source": [
    "name = pyperclip.paste().strip().replace(\"\\n\", \"\").replace(\"- \", \"\")\n",
    "name"
   ]
  },
  {
   "cell_type": "code",
   "execution_count": 412,
   "metadata": {},
   "outputs": [
    {
     "name": "stdout",
     "output_type": "stream",
     "text": [
      "!!! (144, 'the ness account of natural causation: a response to criticisms.')\n"
     ]
    },
    {
     "data": {
      "text/plain": [
       "144"
      ]
     },
     "execution_count": 412,
     "metadata": {},
     "output_type": "execute_result"
    }
   ],
   "source": [
    "paper = db.add_paper(name, check=True)\n",
    "paper = paper\n",
    "paper"
   ]
  },
  {
   "cell_type": "code",
   "execution_count": 413,
   "metadata": {},
   "outputs": [],
   "source": [
    "db.add_citation_to_paper(curren_paper, paper)"
   ]
  },
  {
   "cell_type": "code",
   "execution_count": 409,
   "metadata": {},
   "outputs": [],
   "source": [
    "db.set_paper_relevance(paper,False)\n",
    "db.set_paper_accessible(paper,False)\n",
    "db.add_tag_to_paper(paper,\"1\")"
   ]
  },
  {
   "cell_type": "code",
   "execution_count": 410,
   "metadata": {},
   "outputs": [],
   "source": [
    "db.add_pdf_to_paper(paper)"
   ]
  },
  {
   "cell_type": "code",
   "execution_count": null,
   "metadata": {},
   "outputs": [],
   "source": []
  },
  {
   "cell_type": "code",
   "execution_count": 283,
   "metadata": {},
   "outputs": [],
   "source": [
    "db.get_paper_pdf(paper)"
   ]
  },
  {
   "cell_type": "code",
   "execution_count": null,
   "metadata": {},
   "outputs": [],
   "source": [
    "db.search_paper(\"logic\")"
   ]
  },
  {
   "cell_type": "code",
   "execution_count": 325,
   "metadata": {},
   "outputs": [
    {
     "data": {
      "text/plain": [
       "['proof with and without probabilities',\n",
       " 'judicial analytics and the great transformation of american law',\n",
       " 'modelling competing legal arguments using bayesian model comparison and averaging',\n",
       " 'mining strong symbiotic patterns hidden in spatial prevalent co-location patterns',\n",
       " 'collective behavior learning by differentiating personal preference from peer influence',\n",
       " 'towards smart-data: improving predictive accuracy in long-term football team performance',\n",
       " 'evaluation of e-commerce websites: an integrated approach under a single-valued trapezoidal neutrosophic environment',\n",
       " 'characterizing causal action theories and their implementations in answer set programming',\n",
       " 'measuring inconsistency with constraints for propositional knowledge bases',\n",
       " 'backdoors to planning',\n",
       " 'separators and adjustment sets in causal graphs: complete criteria and an algorithmic framework',\n",
       " 'a core-guided approach to learning optimal causal graphs',\n",
       " 'transfer learning in multi-armed bandits: a causal approach',\n",
       " 'causal discovery from nonstationary/heterogeneous data: skeleton estimation and orientation determination',\n",
       " 'cause-effect knowledge acquisition and neural association model for solving a set of winograd schema problems',\n",
       " 'charda causal hybrid automata recovery via dynamic analysis',\n",
       " 'a causal framework for discovering and removing direct and indirect discrimination',\n",
       " 'exploiting causality for selective belief filtering in dynamic bayesian networks (extended abstract)∗',\n",
       " 'language to action: towards interactive task learning with physical agents',\n",
       " 'actual causality in a logical setting',\n",
       " 'on the conditional logic of simulation models',\n",
       " 'ocounterfactual resimulation for causal analysis of rule-based models',\n",
       " 'causal inference in time series via supervised learning',\n",
       " 'achieving non-discrimination in prediction',\n",
       " 'novel structural parameters for acyclic planning using tree embeddings',\n",
       " 'a graphical criterion for effect identification in equivalence classes of causal diagrams',\n",
       " 'scalable probabilistic causal structure discovery',\n",
       " 'mixed causal structure discovery with application to prescriptive pricing',\n",
       " 'achieving causal fairness through generative adversarial networks',\n",
       " 'asp-based discovery of semi-markovian causal models under weaker assumptions',\n",
       " 'causal discovery with cascade nonlinear additive noise models',\n",
       " 'estimating causal effects of tone in online debates',\n",
       " 'boosting causal embeddings via potential verb-mediated causal patterns',\n",
       " 'answering binary causal questions through large-scale text mining: an evaluation using cause-effect pairs from human experts',\n",
       " 'three-quarter sibling regression for denoising observational data',\n",
       " 'arguing about causes in law: a semi‐formal framework for causal arguments',\n",
       " 'analysis of evidence',\n",
       " 'belief functions and default reasoning',\n",
       " 'reconstructing reality in the courtroom.',\n",
       " 'arguments, stories and criminal evidence: a formal hybrid theory',\n",
       " 'an integrated theory of causal scenarios and evidential arguments',\n",
       " 'legal stories and the process of proof',\n",
       " 'an abstract, argumentation-theoretic approach to default reasoning.',\n",
       " 'causality: objectives and assessment',\n",
       " 'evidence, inference and enquiry',\n",
       " 'towards (probabilistic )argumentation for jury-based dispute resolution',\n",
       " 'reasoning about knowledge and probability.',\n",
       " 'a general structure for legal arguments about evidence using bayesian networks',\n",
       " 'object-oriented graphical representations of complex patterns of evidence.',\n",
       " 'a probabilistic approach to modelling uncertain logical arguments',\n",
       " 'thinking, fast and slow',\n",
       " 'legal evidence and proof: statistics, stories, logic',\n",
       " 'knowledge based crime scenario modelling',\n",
       " 'model-based diagnostics and probabilistic assumption-based reasoning.',\n",
       " 'nonmonotonic reasoning, preferential models and cumulative logics',\n",
       " 'general patterns in nonmonotonic reasoning.',\n",
       " 'causality: models, reasoning and inference',\n",
       " 'reasoning in explanation-based decision making',\n",
       " 'defeasible reasoning',\n",
       " 'cognitive carpentry: a blueprint for how to build a person',\n",
       " 'practical reason and norms',\n",
       " 'moral reasoning',\n",
       " 'measurement theory with applications to decisionmaking, utility, and the social\\nsciences.',\n",
       " 'a probabilistic interpretation for lazy nonmonotonic reasoning',\n",
       " 'scripts, plans, goals and understanding. an inquiry into human knowledge structures',\n",
       " 'a scenario-driven decision support system for-serious crime investigation.',\n",
       " 'forerunners of bayesianism in early forensic science',\n",
       " 'designing and understanding forensic bayesian networks using argumentation.',\n",
       " 'capturing critical questions in bayesian-network fragments',\n",
       " 'explaining bayesian networks using-argumentation.',\n",
       " 'a two-phase method for extracting explanatory arguments from bayesian networks.',\n",
       " 'the uses of argument',\n",
       " 'foundations of conditional logic',\n",
       " 'argumentation in artificial intelligence',\n",
       " 'dialectical argumentation as a heuristic for courtroom decision making',\n",
       " 'deflog: on the logical interpretation of prima facie justified assumptions',\n",
       " 'argumentation and rules with exceptions.',\n",
       " 'jumping to conclusions. a logico-probabilistic foundation for defeasible rule-based-arguments.',\n",
       " 'arguments and their strength: revisiting pollock’s anti-probabilistic starting points',\n",
       " 'to catch a thief with and without numbers: arguments, scenarios and probabilities in evidential reasoning.',\n",
       " 'correct grounded reasoning with presumptive arguments.',\n",
       " 'formalizing correct evidential reasoning with arguments, scenarios and probabilities.',\n",
       " 'formalizing value-guided argumentation for ethical systems design.',\n",
       " 'accepting the truth of a story about the facts of a criminal case.',\n",
       " 'arguments, scenarios and probabilities: connections between three normative frameworks for evidential reasoning.',\n",
       " 'when stories and numbers meet in court. constructing and explaining bayesian networks for criminal cases with scenarios',\n",
       " 'building bayesian networks for legal evidence with narratives: a case study evaluation',\n",
       " 'representing the quality of crime scenarios in a bayesian network.',\n",
       " 'a method for explaining bayesian networks for legal evidence with scenarios',\n",
       " 'anchored narratives. the psychology of criminal evidence',\n",
       " 'the principles of judicial proof as given by logic, psychology, and general experience, and illustrated in judicial trials,',\n",
       " 'reasoning about actions: nonde- terministic effects, constraints, and qualification.',\n",
       " 'representing first-order causal theories by logic program',\n",
       " 'the stable model semantics for logic programming.',\n",
       " 'classical negation in logic programs and disjunctive databases',\n",
       " 'action languages.',\n",
       " 'an action language based on causal explanation: preliminary report.',\n",
       " 'nonmonotonic causal theories.',\n",
       " 'metatheory of actions: beyond consistency.',\n",
       " 'reformulating action language c+ in answer set programming',\n",
       " 'strongly equivalent logic programs.',\n",
       " 'formal theories of action',\n",
       " 'on the logic of causal explanation',\n",
       " 'discovering classes of strongly equivalent logic programs.',\n",
       " 'from causal theories to logic programs (sometimes).',\n",
       " 'embracing causality in specifying the indirect effects of actions.',\n",
       " 'compiling causal theories to suc- cessor state axioms and strips-like systems',\n",
       " 'discovering state invariants.',\n",
       " 'a causal theory of ramifications and qualifications.',\n",
       " 'causality in commonsense reasoning about actions.',\n",
       " 'some logical properties of nonmonotonic causal theories',\n",
       " 'discovering theorems in game theory: two-person games with unique pure nash equilibrium payoffs',\n",
       " 'ramification and causality',\n",
       " 'a unifying action calculus',\n",
       " 'a logic of universal causation',\n",
       " 'consistency of action descriptions.',\n",
       " 'the structural model interpretation of the ness test',\n",
       " 'a regularity theoretic approach to actual causation',\n",
       " 'a principled approach to defining actual causation',\n",
       " 'cause without default',\n",
       " 'pearl’s causality in a logical setting.',\n",
       " 'a logic for causal reasoning.',\n",
       " 'a causal approach to non-monotonic reasoning',\n",
       " 'causal relata.',\n",
       " 'graded causation and defaults',\n",
       " 'causes and explanations: a structural-model approach—part i: causes.',\n",
       " 'defaults and normality in causal structures.',\n",
       " 'actual causality',\n",
       " 'causal powers.',\n",
       " 'the intransitivity of causation revealed in equations and graphs.',\n",
       " 'prevention, preemption, and the principle of sufficient reason',\n",
       " 'clarify- ing the usage of structural models for commonsense causal reasoning.',\n",
       " 'causation',\n",
       " 'the cement of the universe. a study of causation.',\n",
       " 'input/output logics.',\n",
       " 'causal theories of action and change.',\n",
       " 'redundant causation.',\n",
       " 'causation: a user’s guide',\n",
       " 'causality: models, reasoninig and inference.',\n",
       " 'causation and explanation.',\n",
       " 'embracing events in causal modelling: interventions and counterfactuals in cp-logic',\n",
       " 'a partial theory of actual causation.',\n",
       " 'causation in tort law',\n",
       " 'the ness account of natural causation: a response to criticisms.',\n",
       " 'nonmonotonic inferences in neural networks.',\n",
       " 'counterfactual reasoning and learning sys- tems: the example of computational advertising',\n",
       " 'probabilistic (logic) programming concepts',\n",
       " 'a model for reasoning about persistence and causation.',\n",
       " 'on first-order conditional logics',\n",
       " 'a logic for reasoning about probabilities',\n",
       " 'first-order conditional logic for de- fault reasoning revisited',\n",
       " 'counterfactuals',\n",
       " 'church: a language for generative models.',\n",
       " 'concepts in a probabilistic language of thought.',\n",
       " 'axiomatizing causal reasoning',\n",
       " 'the quantitative/qualitative watershed for rules of uncertain inference',\n",
       " 'causal modeling with probabilistic simulation models.',\n",
       " 'from programs to causal models.',\n",
       " 'causalgan: learning causal implicit generative models with adversarial training',\n",
       " 'nonmonotonic reasoning, preferential models and cumulative logics.',\n",
       " 'an investigation into deduction, nonmonotonic reason- ing, and the philosophy of cognition',\n",
       " 'an asymptotic analysis of generative, discriminative, and pseudolikelihood estimators.',\n",
       " 'handbook of logic in artificial intelligence and logic programming',\n",
       " 'conditioning and intervening',\n",
       " 'blog: probabilistic models with unknown objects',\n",
       " 'conditional generative adversarial networks.',\n",
       " 'computer simulation of human thinking',\n",
       " 'causality',\n",
       " 'first-order probabilistic inference',\n",
       " 'causal models: how we think about the world and its alternatives.',\n",
       " 'a theory of conditionals.',\n",
       " 'counterfactual explanations with- out opening the black box: automated decisions and the gdpr.',\n",
       " 'a software package for chemically inspired graph transformation.',\n",
       " 'incremental update for graph rewriting.',\n",
       " 'rule-based modelling of cel- lular signalling',\n",
       " 'scalable simulation of cellular signaling networks',\n",
       " 'rewriting and pathway reconstruction for rule-based models.',\n",
       " 'exact stochastic simulation of coupled chemical reactions',\n",
       " 'bionetgen 2.2: advances in rule-based modeling',\n",
       " 'event structures',\n",
       " 'hinge-loss markov ran- dom fields and probabilistic soft logic',\n",
       " 'integer linear programming for the bayesian network structure learning problem',\n",
       " 'optimal structure identification with greedy search',\n",
       " 'a logical characterization of constraint-based causal discovery',\n",
       " 'order-independent constraint-based causal structure learning',\n",
       " 'bayesian network learning with cutting planes',\n",
       " 'efficient structure learning of bayesian networks using constraints',\n",
       " 'exact bayesian structure learning from uncertain interventions',\n",
       " 'causal discovery for climate research using graphical models',\n",
       " 'inferring cellular networks using probabilistic graphical models.',\n",
       " 'discovering cyclic causal models with latent variables: a general sat-based procedure',\n",
       " 'constraint-based causal discovery: conflict resolution with answer set programming.',\n",
       " 'learning bayesian network structure using lp relaxations',\n",
       " 'inference of gene regulatory network based on local bayesian networks.',\n",
       " 'ancestral causal inference.',\n",
       " 'revealing strengths and weaknesses of methods for gene network inference.',\n",
       " 'cyclic causal discovery from continuous equilibrium data.',\n",
       " 'causal inference by using invariant prediction: identification and confidence intervals.',\n",
       " 'towards a rigorous assessment of systems biology models: the dream3 challenges',\n",
       " 'adjacency-faithfulness and conservative causal inference',\n",
       " 'bootstrapping the pc and cpc algorithms to improve search accuracy.',\n",
       " 'causal protein-signaling networks derived from multiparameter single-cell data.',\n",
       " 'an algorithm for fast recovery of sparse causal graphs.',\n",
       " 'constraint-based causal discovery from multiple interventions over overlapping variable sets.',\n",
       " 'the max-min hillclimbing bayesian network structure learning algorithm.',\n",
       " 'learning optimal bayesian networks: a shortest path perspective',\n",
       " 'on the completeness of orientation rules for causal discovery in the presence of latent confounders and selection bias',\n",
       " 'towards robust and versatile causal discovery for business applications.',\n",
       " 'the frugal inference of causal relations',\n",
       " 'graphical causal models: selecting causal and statistical models.',\n",
       " 'probabilistic reasoning in intelligent systems: networks of plausible inference',\n",
       " 'learning directed acyclic graph models based on sparsest permutations',\n",
       " 'ancestral graph markov models',\n",
       " 'a characterization of markov equivalence for directed cyclic graphs',\n",
       " 'markov properties for acyclic directed mixed graphs',\n",
       " 'uniform consistency in causal inference',\n",
       " 'consistency guarantees for permutation-based causal inference algorithms.',\n",
       " 'a uniformly consistent estimator of causal effects under the k-triangle-faithfulness assumption.',\n",
       " 'causation, prediction and search.',\n",
       " 'geometry of faithfulness assumption in causal inference.',\n",
       " 'graphical aspects of causal model',\n",
       " 'permutation-based causal inference algorithms with interventions.',\n",
       " 'sat-based causal discovery under weaker assumptions',\n",
       " 'detection of unfaithfulness and robust causal inference.',\n",
       " 'a comparison of three occam’s razor for markovian causal models.',\n",
       " 'althen v secretary of hhs',\n",
       " 'the oxford handbook of causation',\n",
       " 'burdens and standards of proof for inference to the best explanation: three case studies.',\n",
       " 'a hybrid formal theory of arguments, stories and criminal evidence']"
      ]
     },
     "execution_count": 325,
     "metadata": {},
     "output_type": "execute_result"
    }
   ],
   "source": [
    "db.list_papers()"
   ]
  },
  {
   "cell_type": "code",
   "execution_count": null,
   "metadata": {},
   "outputs": [],
   "source": []
  }
 ],
 "metadata": {
  "kernelspec": {
   "display_name": "Python 3",
   "language": "python",
   "name": "python3"
  },
  "language_info": {
   "codemirror_mode": {
    "name": "ipython",
    "version": 3
   },
   "file_extension": ".py",
   "mimetype": "text/x-python",
   "name": "python",
   "nbconvert_exporter": "python",
   "pygments_lexer": "ipython3",
   "version": "3.7.3"
  }
 },
 "nbformat": 4,
 "nbformat_minor": 2
}
